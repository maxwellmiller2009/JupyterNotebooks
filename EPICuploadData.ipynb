{
 "cells": [
  {
   "cell_type": "code",
   "execution_count": 1,
   "id": "39ae236f-ff7b-45fa-8fa5-69d795d3bc67",
   "metadata": {},
   "outputs": [],
   "source": [
    "import pandas as pd"
   ]
  },
  {
   "cell_type": "markdown",
   "id": "5b921f98",
   "metadata": {},
   "source": [
    "The code below"
   ]
  },
  {
   "cell_type": "code",
   "execution_count": null,
   "id": "94f8b57a-0308-4089-8fe8-90b4e55ccf00",
   "metadata": {},
   "outputs": [],
   "source": [
    "df = pd.read_csv('EPIC_ytd.csv', encoding='cp1252')\n",
    "df['CheckNumberPayID'] = df['CheckNumberPayID'].astype(float).astype('Int64')\n",
    "df.to_csv('EPICData.txt', quoting=1, quotechar='\"', index=False, header=True)"
   ]
  }
 ],
 "metadata": {
  "kernelspec": {
   "display_name": "Python 3",
   "language": "python",
   "name": "python3"
  },
  "language_info": {
   "codemirror_mode": {
    "name": "ipython",
    "version": 3
   },
   "file_extension": ".py",
   "mimetype": "text/x-python",
   "name": "python",
   "nbconvert_exporter": "python",
   "pygments_lexer": "ipython3",
   "version": "3.8.8"
  }
 },
 "nbformat": 4,
 "nbformat_minor": 5
}
