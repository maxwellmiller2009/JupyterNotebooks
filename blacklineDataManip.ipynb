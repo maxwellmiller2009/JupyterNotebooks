{
 "cells": [
  {
   "cell_type": "code",
   "execution_count": 1,
   "id": "1ad38767-02a8-4bd9-938f-3db28b8a528b",
   "metadata": {},
   "outputs": [],
   "source": [
    "# import required modules\n",
    "import os\n",
    "import pandas as pd\n",
    "import time\n",
    "\n",
    "#set some very important variables\n",
    "df = pd.DataFrame(data=None)\n",
    "stamp = time.strftime('%Y%m%d', time.localtime(time.time()))\n",
    "\n",
    "# iterate over files in\n",
    "# that directory and spit'em out after modification\n",
    "def crawl(directory):\n",
    "    for filename in os.listdir(directory):\n",
    "        f = os.path.join(directory, filename)\n",
    "        # checking if it is a file\n",
    "        if os.path.isfile(f):\n",
    "            spit(f)"
   ]
  },
  {
   "cell_type": "code",
   "execution_count": 2,
   "id": "47269eca-cc62-4c39-b279-6148d9dc994f",
   "metadata": {},
   "outputs": [],
   "source": [
    "# read the file and export as tab delimited no index to the desired location\n",
    "def spit(filename):\n",
    "    global df\n",
    "    df = pd.concat([df, pd.read_csv(filename)])"
   ]
  },
  {
   "cell_type": "code",
   "execution_count": 3,
   "id": "cf6f62b8-5d5c-4b69-80b6-f680dd1cae87",
   "metadata": {},
   "outputs": [],
   "source": [
    "# crawl all over the place, actually just check out this folder and use the crawl function to process each file\n",
    "crawl(r'C:\\Users\\maxwell.miller\\blacklineData\\Input')"
   ]
  },
  {
   "cell_type": "code",
   "execution_count": 4,
   "id": "d5f87685-56c2-42bb-b0b2-46c6187aa4a9",
   "metadata": {},
   "outputs": [],
   "source": [
    "# after the dataframe is created, then we cna go ahead and save it as a tab delimited file\n",
    "df.to_csv(r'C:\\Users\\maxwell.miller\\blacklineData\\DependantValidationAppend_{}.txt'.format(stamp), sep='\\t', index=False, header=False)"
   ]
  }
 ],
 "metadata": {
  "kernelspec": {
   "display_name": "Python 3 (ipykernel)",
   "language": "python",
   "name": "python3"
  },
  "language_info": {
   "codemirror_mode": {
    "name": "ipython",
    "version": 3
   },
   "file_extension": ".py",
   "mimetype": "text/x-python",
   "name": "python",
   "nbconvert_exporter": "python",
   "pygments_lexer": "ipython3",
   "version": "3.9.10"
  }
 },
 "nbformat": 4,
 "nbformat_minor": 5
}
